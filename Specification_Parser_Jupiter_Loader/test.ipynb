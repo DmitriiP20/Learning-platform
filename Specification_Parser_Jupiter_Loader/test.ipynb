{
 "cells": [
  {
   "cell_type": "markdown",
   "metadata": {},
   "source": [
    "## Statement \n",
    "Given function $f(x) = \\sin{\\left(x \\right)} $, compute its derivative $f'(x)$ at point $x=3$."
   ]
  },
  {
   "cell_type": "code",
   "execution_count": null,
   "metadata": {},
   "outputs": [],
   "source": [
    "#Your answer goes here\n",
    "f'= \n",
    "\n",
    "sp.diff(test.Function_instance,'x').subs('x',test.point) == f';"
   ]
  },
  {
   "cell_type": "markdown",
   "metadata": {},
   "source": [
    "## Solution \n",
    "Recall the formula for differentiating $f(x) = \\sin{\\left(x \\right)}$: $$f'(x) = \\cos{\\left(x \\right)}.$$ Then plug in $x = 3$ to get $f'(3) = \\cos{\\left(3 \\right)}$.  "
   ]
  }
 ],
 "metadata": {},
 "nbformat": 4,
 "nbformat_minor": 4
}
